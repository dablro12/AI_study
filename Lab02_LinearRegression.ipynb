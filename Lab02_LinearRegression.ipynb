{
  "nbformat": 4,
  "nbformat_minor": 0,
  "metadata": {
    "colab": {
      "provenance": [],
      "mount_file_id": "1TjqvdUVaJyi3DiS4T7sqyPu3vf1xcD5O",
      "authorship_tag": "ABX9TyMeLZQWVWNkcffUe9Vy7ma4",
      "include_colab_link": true
    },
    "kernelspec": {
      "name": "python3",
      "display_name": "Python 3"
    },
    "language_info": {
      "name": "python"
    }
  },
  "cells": [
    {
      "cell_type": "markdown",
      "metadata": {
        "id": "view-in-github",
        "colab_type": "text"
      },
      "source": [
        "<a href=\"https://colab.research.google.com/github/dablro12/AI_study/blob/main/Lab02_LinearRegression.ipynb\" target=\"_parent\"><img src=\"https://colab.research.google.com/assets/colab-badge.svg\" alt=\"Open In Colab\"/></a>"
      ]
    },
    {
      "cell_type": "code",
      "source": [
        "#import moduel config\n",
        "import torch\n",
        "import numpy as np\n",
        "import matplotlib.pyplot as plt\n",
        "import pandas as pd\n",
        "\n",
        "#google drive <-> colab mount\n",
        "from google.colab import drive\n",
        "drive.mount('/content/drive')"
      ],
      "metadata": {
        "id": "iULhZC6g8zdb",
        "colab": {
          "base_uri": "https://localhost:8080/"
        },
        "outputId": "69fa7f32-f923-48ed-e11c-add66df86a6f"
      },
      "execution_count": 76,
      "outputs": [
        {
          "output_type": "stream",
          "name": "stdout",
          "text": [
            "Drive already mounted at /content/drive; to attempt to forcibly remount, call drive.mount(\"/content/drive\", force_remount=True).\n"
          ]
        }
      ]
    },
    {
      "cell_type": "code",
      "source": [
        "#pandas dataframe 불러오기\n",
        "EXCEL_PATH = '/content/drive/MyDrive/Colab Notebooks/3-1_바이오메디컬인공지능/data/0327/data0327.xlsx'\n",
        "df = pd.read_excel(EXCEL_PATH)\n",
        "df.head()"
      ],
      "metadata": {
        "id": "bynj1Uzi8za1",
        "colab": {
          "base_uri": "https://localhost:8080/",
          "height": 206
        },
        "outputId": "da7cc8be-2ff9-4913-ab60-edd996a49eb5"
      },
      "execution_count": 77,
      "outputs": [
        {
          "output_type": "execute_result",
          "data": {
            "text/plain": [
              "    취미   운동   공부    수면  오늘기분\n",
              "0  8.0  0.0  2.0  12.0   0.0\n",
              "1  3.0  0.0  3.0   7.0   1.0\n",
              "2  1.0  0.0  5.0   7.0   1.0\n",
              "3  2.0  1.0  6.0   8.0   3.0\n",
              "4  3.0  2.0  2.0   7.0   5.0"
            ],
            "text/html": [
              "\n",
              "  <div id=\"df-3ef848fb-21c1-4e65-a51b-52dfe1289e04\">\n",
              "    <div class=\"colab-df-container\">\n",
              "      <div>\n",
              "<style scoped>\n",
              "    .dataframe tbody tr th:only-of-type {\n",
              "        vertical-align: middle;\n",
              "    }\n",
              "\n",
              "    .dataframe tbody tr th {\n",
              "        vertical-align: top;\n",
              "    }\n",
              "\n",
              "    .dataframe thead th {\n",
              "        text-align: right;\n",
              "    }\n",
              "</style>\n",
              "<table border=\"1\" class=\"dataframe\">\n",
              "  <thead>\n",
              "    <tr style=\"text-align: right;\">\n",
              "      <th></th>\n",
              "      <th>취미</th>\n",
              "      <th>운동</th>\n",
              "      <th>공부</th>\n",
              "      <th>수면</th>\n",
              "      <th>오늘기분</th>\n",
              "    </tr>\n",
              "  </thead>\n",
              "  <tbody>\n",
              "    <tr>\n",
              "      <th>0</th>\n",
              "      <td>8.0</td>\n",
              "      <td>0.0</td>\n",
              "      <td>2.0</td>\n",
              "      <td>12.0</td>\n",
              "      <td>0.0</td>\n",
              "    </tr>\n",
              "    <tr>\n",
              "      <th>1</th>\n",
              "      <td>3.0</td>\n",
              "      <td>0.0</td>\n",
              "      <td>3.0</td>\n",
              "      <td>7.0</td>\n",
              "      <td>1.0</td>\n",
              "    </tr>\n",
              "    <tr>\n",
              "      <th>2</th>\n",
              "      <td>1.0</td>\n",
              "      <td>0.0</td>\n",
              "      <td>5.0</td>\n",
              "      <td>7.0</td>\n",
              "      <td>1.0</td>\n",
              "    </tr>\n",
              "    <tr>\n",
              "      <th>3</th>\n",
              "      <td>2.0</td>\n",
              "      <td>1.0</td>\n",
              "      <td>6.0</td>\n",
              "      <td>8.0</td>\n",
              "      <td>3.0</td>\n",
              "    </tr>\n",
              "    <tr>\n",
              "      <th>4</th>\n",
              "      <td>3.0</td>\n",
              "      <td>2.0</td>\n",
              "      <td>2.0</td>\n",
              "      <td>7.0</td>\n",
              "      <td>5.0</td>\n",
              "    </tr>\n",
              "  </tbody>\n",
              "</table>\n",
              "</div>\n",
              "      <button class=\"colab-df-convert\" onclick=\"convertToInteractive('df-3ef848fb-21c1-4e65-a51b-52dfe1289e04')\"\n",
              "              title=\"Convert this dataframe to an interactive table.\"\n",
              "              style=\"display:none;\">\n",
              "        \n",
              "  <svg xmlns=\"http://www.w3.org/2000/svg\" height=\"24px\"viewBox=\"0 0 24 24\"\n",
              "       width=\"24px\">\n",
              "    <path d=\"M0 0h24v24H0V0z\" fill=\"none\"/>\n",
              "    <path d=\"M18.56 5.44l.94 2.06.94-2.06 2.06-.94-2.06-.94-.94-2.06-.94 2.06-2.06.94zm-11 1L8.5 8.5l.94-2.06 2.06-.94-2.06-.94L8.5 2.5l-.94 2.06-2.06.94zm10 10l.94 2.06.94-2.06 2.06-.94-2.06-.94-.94-2.06-.94 2.06-2.06.94z\"/><path d=\"M17.41 7.96l-1.37-1.37c-.4-.4-.92-.59-1.43-.59-.52 0-1.04.2-1.43.59L10.3 9.45l-7.72 7.72c-.78.78-.78 2.05 0 2.83L4 21.41c.39.39.9.59 1.41.59.51 0 1.02-.2 1.41-.59l7.78-7.78 2.81-2.81c.8-.78.8-2.07 0-2.86zM5.41 20L4 18.59l7.72-7.72 1.47 1.35L5.41 20z\"/>\n",
              "  </svg>\n",
              "      </button>\n",
              "      \n",
              "  <style>\n",
              "    .colab-df-container {\n",
              "      display:flex;\n",
              "      flex-wrap:wrap;\n",
              "      gap: 12px;\n",
              "    }\n",
              "\n",
              "    .colab-df-convert {\n",
              "      background-color: #E8F0FE;\n",
              "      border: none;\n",
              "      border-radius: 50%;\n",
              "      cursor: pointer;\n",
              "      display: none;\n",
              "      fill: #1967D2;\n",
              "      height: 32px;\n",
              "      padding: 0 0 0 0;\n",
              "      width: 32px;\n",
              "    }\n",
              "\n",
              "    .colab-df-convert:hover {\n",
              "      background-color: #E2EBFA;\n",
              "      box-shadow: 0px 1px 2px rgba(60, 64, 67, 0.3), 0px 1px 3px 1px rgba(60, 64, 67, 0.15);\n",
              "      fill: #174EA6;\n",
              "    }\n",
              "\n",
              "    [theme=dark] .colab-df-convert {\n",
              "      background-color: #3B4455;\n",
              "      fill: #D2E3FC;\n",
              "    }\n",
              "\n",
              "    [theme=dark] .colab-df-convert:hover {\n",
              "      background-color: #434B5C;\n",
              "      box-shadow: 0px 1px 3px 1px rgba(0, 0, 0, 0.15);\n",
              "      filter: drop-shadow(0px 1px 2px rgba(0, 0, 0, 0.3));\n",
              "      fill: #FFFFFF;\n",
              "    }\n",
              "  </style>\n",
              "\n",
              "      <script>\n",
              "        const buttonEl =\n",
              "          document.querySelector('#df-3ef848fb-21c1-4e65-a51b-52dfe1289e04 button.colab-df-convert');\n",
              "        buttonEl.style.display =\n",
              "          google.colab.kernel.accessAllowed ? 'block' : 'none';\n",
              "\n",
              "        async function convertToInteractive(key) {\n",
              "          const element = document.querySelector('#df-3ef848fb-21c1-4e65-a51b-52dfe1289e04');\n",
              "          const dataTable =\n",
              "            await google.colab.kernel.invokeFunction('convertToInteractive',\n",
              "                                                     [key], {});\n",
              "          if (!dataTable) return;\n",
              "\n",
              "          const docLinkHtml = 'Like what you see? Visit the ' +\n",
              "            '<a target=\"_blank\" href=https://colab.research.google.com/notebooks/data_table.ipynb>data table notebook</a>'\n",
              "            + ' to learn more about interactive tables.';\n",
              "          element.innerHTML = '';\n",
              "          dataTable['output_type'] = 'display_data';\n",
              "          await google.colab.output.renderOutput(dataTable, element);\n",
              "          const docLink = document.createElement('div');\n",
              "          docLink.innerHTML = docLinkHtml;\n",
              "          element.appendChild(docLink);\n",
              "        }\n",
              "      </script>\n",
              "    </div>\n",
              "  </div>\n",
              "  "
            ]
          },
          "metadata": {},
          "execution_count": 77
        }
      ]
    },
    {
      "cell_type": "code",
      "source": [
        "#y = X * w + b 에서 가져올 x, y 정의\n",
        "#x는 취미,운동,공부,수면 data를 가져와야함\n",
        "x_class=df[['취미','운동','공부','수면']]\n",
        "y_class=df[['오늘기분']]\n",
        "#X,Y를 tensor형태로 바꿔줌 .to_numpy() -> df에 있는 값들은 데이터프레임을 numpy array로 변환시켜주는 method\n",
        "##x는 취미,운동,공부,수면을 가져와야함\n",
        "X = torch.tensor(x_class.to_numpy()).to(torch.float)\n",
        "##y는 오늘기분 data를 가져와야함\n",
        "Y = torch.tensor(y_class.to_numpy()).to(torch.float)\n",
        "print(f\"x shape : {X.shape}, y shape : {Y.shape}, x dtype : {X.dtype}, y dtype : {Y.dtype}\")\n",
        "\n",
        "# w(가중치)에 대한 tensor형태를 정의해줘야함 -> 1차원 텐서로  \n",
        "w = torch.ones(4, requires_grad = True) #requires_grad = True, 가중치를 업데이트해줘야하므로 True로 설정\n",
        "print(f\"w shape : {w.shape}, w dtype : {w.dtype}\")\n",
        "\n",
        "# b(bias)는 0차원 텐서(스칼라값으로 부여해주기) \n",
        "b = torch.ones(1, requires_grad = True) #b도 게속 업데이트되어야하므로 True로 설정\n",
        "print(f\"b shape : {b.shape}, b dtype : {b.dtype}\")\n",
        "\n",
        "#Hypter parameter config \n",
        "batch_size = len(X)/4 #-> MINI = 데이터크기/N해줘야함\n",
        "l_rate = 0.001 #Learning Rate 설정 0.001로 설정\n",
        "\n"
      ],
      "metadata": {
        "id": "kldx2z598zV3",
        "colab": {
          "base_uri": "https://localhost:8080/"
        },
        "outputId": "ce6daa6e-c5ea-4910-e75b-04ebccf84fdc"
      },
      "execution_count": 78,
      "outputs": [
        {
          "output_type": "stream",
          "name": "stdout",
          "text": [
            "x shape : torch.Size([33, 4]), y shape : torch.Size([33, 1]), x dtype : torch.float32, y dtype : torch.float32\n",
            "w shape : torch.Size([4]), w dtype : torch.float32\n",
            "b shape : torch.Size([1]), b dtype : torch.float32\n"
          ]
        }
      ]
    },
    {
      "cell_type": "code",
      "source": [
        "#(linear regression, loss function, optim algorithms) 함수 정의\n",
        "#-1. linear regression define : y = X * w + b 형태로\n",
        "def lin_reg(X, w, b):\n",
        "  Y = torch.matmul(X,w) + b #X, w가 텐서형태이므로 행렬곱을 해줌 b는 스칼라값이므로 np.dot 쓰면 안됨 정방행렬이 아님! \n",
        "  return Y #-> 0차원 33개 요소를 가지는 텐서\n",
        "#np.dot() vs torch.mm()의 차이점을 알고 싶다면 링크 확인 : https://jimmy-ai.tistory.com/104\n",
        "\n",
        "#-2. loss function define : squared loss 사용 -> (y_hat - y)^2 / 2\n",
        "def squared_loss(y_hat, y):\n",
        "  loss = (y_hat - y.reshape(y_hat.shape))**2 / 2\n",
        "  return loss\n",
        "\n",
        "#-3. optim algorithms define : 학습 알고리즘 어떻게할건지\n",
        "def sgd(params, lr, batch_size):\n",
        "  with torch.no_grad():\n",
        "    for p in params:\n",
        "      p -= lr * p.grad/batch_size\n",
        "      p.grad.zero_() #파라미터를 다시 0의 값으로 놔두기 , _는 p를 inplace 하기위함"
      ],
      "metadata": {
        "id": "MEuKYTGn8zN0"
      },
      "execution_count": 79,
      "outputs": []
    },
    {
      "cell_type": "code",
      "source": [
        "#학습 모델 돌리기\n",
        "loss_train = [] #학습하면서 loss값이 어떻게 변화하는지 확인하기 위해 리스트를 하나 만듬\n",
        "for l_cnt in range(0,10000):\n",
        "  y_hat = lin_reg(X,w,b)\n",
        "  loss = squared_loss(y_hat, Y)\n",
        "  loss_train.append(loss.sum().detach()/batch_size)\n",
        "  loss.sum().backward()\n",
        "  sgd([w,b], l_rate, batch_size)\n",
        "\n",
        "plt.subplot(211)\n",
        "plt.plot(loss_train)\n",
        "plt.xlabel('epoch')\n",
        "plt.ylabel('Loss')\n",
        "plt.subplot(212)\n",
        "plt.scatter(Y,y_hat.detach().numpy())\n",
        "plt.plot(np.arange(0,11),np.arange(0,11))\n",
        "plt.axis([0,10,0,10])\n",
        "plt.xlabel('label')\n",
        "plt.ylabel('prediction=inference')\n",
        "plt.show()\n",
        "\n",
        "print(f\"weight 확인 : {w}\")\n",
        "print(f\"bais 값 확인 : {b}\")\n"
      ],
      "metadata": {
        "colab": {
          "base_uri": "https://localhost:8080/",
          "height": 314
        },
        "id": "m671lN6GH6DQ",
        "outputId": "23d0cba2-5963-4ea8-8da0-cde2e484fb05"
      },
      "execution_count": 80,
      "outputs": [
        {
          "output_type": "display_data",
          "data": {
            "text/plain": [
              "<Figure size 432x288 with 2 Axes>"
            ],
            "image/png": "[encoded data removed]"
          },
          "metadata": {
            "needs_background": "light"
          }
        },
        {
          "output_type": "stream",
          "name": "stdout",
          "text": [
            "weight 확인 : tensor([-0.0628,  0.6060,  0.2925,  0.1259], requires_grad=True)\n",
            "bais 값 확인 : tensor([0.8107], requires_grad=True)\n"
          ]
        }
      ]
    },
    {
      "cell_type": "code",
      "source": [
        "#예측값 맞는지 한 번 확인해보기\n",
        "for i in range(len(X)):\n",
        "  y_hat=lin_reg(X[i],w,b)\n",
        "  print(f\"y : {Y[i].item()}, y_hat : {y_hat.item()}\") "
      ],
      "metadata": {
        "colab": {
          "base_uri": "https://localhost:8080/"
        },
        "id": "DMjb8cRDKfe2",
        "outputId": "ba0ac88c-1d9e-4293-d469-ba73aa0bee49"
      },
      "execution_count": 81,
      "outputs": [
        {
          "output_type": "stream",
          "name": "stdout",
          "text": [
            "y : 0.0, y_hat : 2.4036877155303955\n",
            "y : 1.0, y_hat : 2.380783796310425\n",
            "y : 1.0, y_hat : 3.0913209915161133\n",
            "y : 3.0, y_hat : 4.052813529968262\n",
            "y : 5.0, y_hat : 3.3002426624298096\n",
            "y : 5.0, y_hat : 2.71639347076416\n",
            "y : 5.0, y_hat : 2.8621983528137207\n",
            "y : 5.0, y_hat : 4.72158145904541\n",
            "y : 1.0, y_hat : 2.294238567352295\n",
            "y : 3.0, y_hat : 2.861933708190918\n",
            "y : 3.0, y_hat : 1.3777862787246704\n",
            "y : 0.0, y_hat : 3.4889321327209473\n",
            "y : 5.0, y_hat : 2.946045398712158\n",
            "y : 0.0, y_hat : 4.658773422241211\n",
            "y : 0.0, y_hat : 4.867695331573486\n",
            "y : 3.0, y_hat : 4.4275078773498535\n",
            "y : 0.0, y_hat : 2.0880589485168457\n",
            "y : 0.0, y_hat : 2.2977874279022217\n",
            "y : 0.0, y_hat : 2.505329132080078\n",
            "y : 4.0, y_hat : 3.3420119285583496\n",
            "y : 4.0, y_hat : 2.6615209579467773\n",
            "y : 3.700000047683716, y_hat : 1.9642035961151123\n",
            "y : 4.0, y_hat : 3.1126246452331543\n",
            "y : 3.0, y_hat : 3.363050937652588\n",
            "y : 4.0, y_hat : 2.6742053031921387\n",
            "y : 3.0, y_hat : 2.6929473876953125\n",
            "y : 5.0, y_hat : 2.9247419834136963\n",
            "y : 10.0, y_hat : 5.221848011016846\n",
            "y : 0.0, y_hat : 3.5719285011291504\n",
            "y : 8.0, y_hat : 4.010779857635498\n",
            "y : 0.0, y_hat : 2.5692086219787598\n",
            "y : 7.0, y_hat : 3.5506691932678223\n",
            "y : 9.0, y_hat : 3.7180418968200684\n"
          ]
        }
      ]
    },
    {
      "cell_type": "markdown",
      "source": [
        "# 결과분석\n",
        "## -> 잘안맞다. 예측값과 GT사이의 값들은 너무 많이 차이가 난다. input data가 noise가 많아 보이는데, 이것도 맞출 수 있으면 얼마나 좋을까"
      ],
      "metadata": {
        "id": "9Znl5H71N0K0"
      }
    },
    {
      "cell_type": "code",
      "source": [],
      "metadata": {
        "id": "WWQ6PfSJN9Py"
      },
      "execution_count": null,
      "outputs": []
    }
  ]
}